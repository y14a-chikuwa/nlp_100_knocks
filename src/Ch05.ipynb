{
 "cells": [
  {
   "cell_type": "markdown",
   "metadata": {
    "ExecuteTime": {
     "end_time": "2021-07-24T04:05:15.755596Z",
     "start_time": "2021-07-24T04:05:15.750596Z"
    }
   },
   "source": [
    "# 形態素解析"
   ]
  },
  {
   "cell_type": "markdown",
   "metadata": {
    "toc": true
   },
   "source": [
    "<h1>Table of Contents<span class=\"tocSkip\"></span></h1>\n",
    "<div class=\"toc\"><ul class=\"toc-item\"><li><span><a href=\"#形態素解析\" data-toc-modified-id=\"形態素解析-1\"><span class=\"toc-item-num\">1&nbsp;&nbsp;</span>形態素解析</a></span></li><li><span><a href=\"#Processing\" data-toc-modified-id=\"Processing-2\"><span class=\"toc-item-num\">2&nbsp;&nbsp;</span>Processing</a></span><ul class=\"toc-item\"><li><span><a href=\"#形態素解析結果の読み込み\" data-toc-modified-id=\"形態素解析結果の読み込み-2.1\"><span class=\"toc-item-num\">2.1&nbsp;&nbsp;</span>形態素解析結果の読み込み</a></span></li><li><span><a href=\"#動詞\" data-toc-modified-id=\"動詞-2.2\"><span class=\"toc-item-num\">2.2&nbsp;&nbsp;</span>動詞</a></span></li><li><span><a href=\"#動詞の基本形\" data-toc-modified-id=\"動詞の基本形-2.3\"><span class=\"toc-item-num\">2.3&nbsp;&nbsp;</span>動詞の基本形</a></span></li><li><span><a href=\"#「AのB」\" data-toc-modified-id=\"「AのB」-2.4\"><span class=\"toc-item-num\">2.4&nbsp;&nbsp;</span>「AのB」</a></span></li><li><span><a href=\"#名詞の連接Permalink\" data-toc-modified-id=\"名詞の連接Permalink-2.5\"><span class=\"toc-item-num\">2.5&nbsp;&nbsp;</span>名詞の連接Permalink</a></span></li></ul></li></ul></div>"
   ]
  },
  {
   "cell_type": "markdown",
   "metadata": {},
   "source": [
    "日本語Wikipediaの「人工知能」に関する記事からテキスト部分を抜き出したファイルがai.ja.zipに収録されている． この文章をCaboChaやKNP等のツールを利用して係り受け解析を行い，その結果をai.ja.txt.parsedというファイルに保存せよ．このファイルを読み込み，以下の問に対応するプログラムを実装せよ．"
   ]
  },
  {
   "cell_type": "markdown",
   "metadata": {
    "ExecuteTime": {
     "end_time": "2021-07-24T03:36:43.949475Z",
     "start_time": "2021-07-24T03:36:43.935196Z"
    }
   },
   "source": [
    "URL: https://nlp100.github.io/ja/"
   ]
  },
  {
   "cell_type": "markdown",
   "metadata": {},
   "source": [
    "# Processing"
   ]
  },
  {
   "cell_type": "code",
   "execution_count": 2,
   "metadata": {},
   "outputs": [
    {
     "name": "stdout",
     "output_type": "stream",
     "text": [
      "Collecting cabocha-python\n",
      "  Downloading https://files.pythonhosted.org/packages/f6/d7/9d65ff2cf49f34ef8313c2fe6fe2f8b0a0e165ea385e6ef6e20b4538560c/cabocha-python-0.69.1.tar.gz (49kB)\n"
     ]
    },
    {
     "name": "stderr",
     "output_type": "stream",
     "text": [
      "    ERROR: Command errored out with exit status 1:\n",
      "     command: 'C:\\ProgramData\\Anaconda3\\python.exe' -c 'import sys, setuptools, tokenize; sys.argv[0] = '\"'\"'D:\\\\Users\\\\yoshiaki.tokuyama\\\\AppData\\\\Local\\\\Temp\\\\1\\\\pip-install-k84wl66g\\\\cabocha-python\\\\setup.py'\"'\"'; __file__='\"'\"'D:\\\\Users\\\\yoshiaki.tokuyama\\\\AppData\\\\Local\\\\Temp\\\\1\\\\pip-install-k84wl66g\\\\cabocha-python\\\\setup.py'\"'\"';f=getattr(tokenize, '\"'\"'open'\"'\"', open)(__file__);code=f.read().replace('\"'\"'\\r\\n'\"'\"', '\"'\"'\\n'\"'\"');f.close();exec(compile(code, __file__, '\"'\"'exec'\"'\"'))' egg_info --egg-base pip-egg-info\n",
      "         cwd: D:\\Users\\yoshiaki.tokuyama\\AppData\\Local\\Temp\\1\\pip-install-k84wl66g\\cabocha-python\\\n",
      "    Complete output (5 lines):\n",
      "    Traceback (most recent call last):\n",
      "      File \"<string>\", line 1, in <module>\n",
      "      File \"D:\\Users\\yoshiaki.tokuyama\\AppData\\Local\\Temp\\1\\pip-install-k84wl66g\\cabocha-python\\setup.py\", line 26, in <module>\n",
      "        raise WindowsError('64bit Python for Windows is not supported')\n",
      "    OSError: 64bit Python for Windows is not supported\n",
      "    ----------------------------------------\n",
      "ERROR: Command errored out with exit status 1: python setup.py egg_info Check the logs for full command output.\n"
     ]
    }
   ],
   "source": [
    "!pip install cabocha-python"
   ]
  },
  {
   "cell_type": "code",
   "execution_count": null,
   "metadata": {},
   "outputs": [],
   "source": [
    "import sys, os\n"
   ]
  },
  {
   "cell_type": "markdown",
   "metadata": {},
   "source": [
    "EoF"
   ]
  }
 ],
 "metadata": {
  "kernelspec": {
   "display_name": "Python 3",
   "language": "python",
   "name": "python3"
  },
  "language_info": {
   "codemirror_mode": {
    "name": "ipython",
    "version": 3
   },
   "file_extension": ".py",
   "mimetype": "text/x-python",
   "name": "python",
   "nbconvert_exporter": "python",
   "pygments_lexer": "ipython3",
   "version": "3.7.4"
  },
  "toc": {
   "base_numbering": 1,
   "nav_menu": {},
   "number_sections": true,
   "sideBar": true,
   "skip_h1_title": false,
   "title_cell": "Table of Contents",
   "title_sidebar": "Contents",
   "toc_cell": true,
   "toc_position": {},
   "toc_section_display": true,
   "toc_window_display": true
  }
 },
 "nbformat": 4,
 "nbformat_minor": 2
}
