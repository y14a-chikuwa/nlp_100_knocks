{
 "cells": [
  {
   "cell_type": "markdown",
   "metadata": {
    "toc": true
   },
   "source": [
    "<h1>Table of Contents<span class=\"tocSkip\"></span></h1>\n",
    "<div class=\"toc\"><ul class=\"toc-item\"><li><span><a href=\"#Processing\" data-toc-modified-id=\"Processing-1\"><span class=\"toc-item-num\">1&nbsp;&nbsp;</span>Processing</a></span><ul class=\"toc-item\"><li><span><a href=\"#文字列の逆順:-文字列”stressed”の文字を逆に（末尾から先頭に向かって）並べた文字列を得よ．\" data-toc-modified-id=\"文字列の逆順:-文字列”stressed”の文字を逆に（末尾から先頭に向かって）並べた文字列を得よ．-1.1\"><span class=\"toc-item-num\">1.1&nbsp;&nbsp;</span>文字列の逆順: 文字列”stressed”の文字を逆に（末尾から先頭に向かって）並べた文字列を得よ．</a></span></li><li><span><a href=\"#「パタトクカシーー」:-「パタトクカシーー」という文字列の1,3,5,7文字目を取り出して連結した文字列を得よ．\" data-toc-modified-id=\"「パタトクカシーー」:-「パタトクカシーー」という文字列の1,3,5,7文字目を取り出して連結した文字列を得よ．-1.2\"><span class=\"toc-item-num\">1.2&nbsp;&nbsp;</span>「パタトクカシーー」: 「パタトクカシーー」という文字列の1,3,5,7文字目を取り出して連結した文字列を得よ．</a></span></li></ul></li></ul></div>"
   ]
  },
  {
   "cell_type": "code",
   "execution_count": 7,
   "metadata": {
    "ExecuteTime": {
     "end_time": "2021-07-23T16:33:56.730234Z",
     "start_time": "2021-07-23T16:33:56.727234Z"
    }
   },
   "outputs": [],
   "source": [
    "# URL: https://nlp100.github.io/ja/"
   ]
  },
  {
   "cell_type": "markdown",
   "metadata": {},
   "source": [
    "# Processing"
   ]
  },
  {
   "cell_type": "markdown",
   "metadata": {
    "ExecuteTime": {
     "end_time": "2021-07-23T16:33:01.627222Z",
     "start_time": "2021-07-23T16:33:01.625221Z"
    }
   },
   "source": [
    "## 文字列の逆順: 文字列”stressed”の文字を逆に（末尾から先頭に向かって）並べた文字列を得よ．"
   ]
  },
  {
   "cell_type": "code",
   "execution_count": 2,
   "metadata": {
    "ExecuteTime": {
     "end_time": "2021-07-23T16:33:29.679228Z",
     "start_time": "2021-07-23T16:33:29.675223Z"
    }
   },
   "outputs": [],
   "source": [
    "text = 'stressed'"
   ]
  },
  {
   "cell_type": "code",
   "execution_count": 5,
   "metadata": {
    "ExecuteTime": {
     "end_time": "2021-07-23T16:33:45.845048Z",
     "start_time": "2021-07-23T16:33:45.835479Z"
    }
   },
   "outputs": [
    {
     "name": "stdout",
     "output_type": "stream",
     "text": [
      "desserts\n"
     ]
    }
   ],
   "source": [
    "print(text[::-1])"
   ]
  },
  {
   "cell_type": "markdown",
   "metadata": {},
   "source": [
    "## 「パタトクカシーー」: 「パタトクカシーー」という文字列の1,3,5,7文字目を取り出して連結した文字列を得よ．"
   ]
  },
  {
   "cell_type": "code",
   "execution_count": 8,
   "metadata": {
    "ExecuteTime": {
     "end_time": "2021-07-23T16:35:23.186868Z",
     "start_time": "2021-07-23T16:35:23.183894Z"
    }
   },
   "outputs": [],
   "source": [
    "text = 'パタトクカシー'"
   ]
  },
  {
   "cell_type": "code",
   "execution_count": 12,
   "metadata": {
    "ExecuteTime": {
     "end_time": "2021-07-23T16:36:36.841314Z",
     "start_time": "2021-07-23T16:36:36.835314Z"
    }
   },
   "outputs": [
    {
     "name": "stdout",
     "output_type": "stream",
     "text": [
      "パトカー\n"
     ]
    }
   ],
   "source": [
    "print(text[::2])\n",
    "# print(text[:8:2]) # <- 明示的に7文字目までと指定する場合はこちらのほうがよいか？"
   ]
  },
  {
   "cell_type": "code",
   "execution_count": null,
   "metadata": {},
   "outputs": [],
   "source": []
  },
  {
   "cell_type": "code",
   "execution_count": null,
   "metadata": {},
   "outputs": [],
   "source": []
  },
  {
   "cell_type": "code",
   "execution_count": null,
   "metadata": {},
   "outputs": [],
   "source": []
  }
 ],
 "metadata": {
  "kernelspec": {
   "display_name": "Environment (conda_py37-mlenv)",
   "language": "python",
   "name": "conda_py37-mlenv"
  },
  "language_info": {
   "codemirror_mode": {
    "name": "ipython",
    "version": 3
   },
   "file_extension": ".py",
   "mimetype": "text/x-python",
   "name": "python",
   "nbconvert_exporter": "python",
   "pygments_lexer": "ipython3",
   "version": "3.7.7"
  },
  "toc": {
   "base_numbering": 1,
   "nav_menu": {},
   "number_sections": true,
   "sideBar": true,
   "skip_h1_title": false,
   "title_cell": "Table of Contents",
   "title_sidebar": "Contents",
   "toc_cell": true,
   "toc_position": {},
   "toc_section_display": true,
   "toc_window_display": false
  }
 },
 "nbformat": 4,
 "nbformat_minor": 2
}
